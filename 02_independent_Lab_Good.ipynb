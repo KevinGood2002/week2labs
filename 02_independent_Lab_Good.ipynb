{
 "cells": [
  {
   "cell_type": "markdown",
   "id": "6d235033-3ff6-49e5-bbbb-ee0567f42181",
   "metadata": {},
   "source": [
    "Introduction to Python\n",
    "MSBA\n",
    "\n",
    "Week 2 Independent Lab\n",
    "\n",
    "Kevin Good\n",
    "3/10/2025"
   ]
  },
  {
   "cell_type": "code",
   "execution_count": 26,
   "id": "eb9fe856-b28d-46a4-8edd-f02dfe01a2db",
   "metadata": {},
   "outputs": [
    {
     "name": "stdin",
     "output_type": "stream",
     "text": [
      "Please provide a value, in Celsius, to convert:\n",
      " 37\n"
     ]
    }
   ],
   "source": [
    "celsius = 0.0\n",
    "fahrenheit =0.0\n",
    "\n",
    "text = float(input(\"Please provide a value, in Celsius, to convert:\\n\"))"
   ]
  },
  {
   "cell_type": "markdown",
   "id": "c1b8b6fa-d3c7-4f62-8fcb-c6012599db0c",
   "metadata": {},
   "source": [
    "I chose to use the float type for the input because it matches the type set for each variable when they were give the value of 0.0"
   ]
  },
  {
   "cell_type": "code",
   "execution_count": 28,
   "id": "b2d4ccb1-e510-49eb-a038-003fff637e03",
   "metadata": {},
   "outputs": [
    {
     "name": "stdout",
     "output_type": "stream",
     "text": [
      "37.0 degrees celsius is 98.60000000000001 degrees fahrenheit.\n"
     ]
    }
   ],
   "source": [
    "celsius = text\n",
    "fahrenheit = (9 / 5) * celsius + 32\n",
    "\n",
    "print(f\"{celsius} degrees celsius is {fahrenheit} degrees fahrenheit.\")"
   ]
  },
  {
   "cell_type": "code",
   "execution_count": 30,
   "id": "727101cf-a764-4b47-8b4a-ad0b14e45925",
   "metadata": {},
   "outputs": [
    {
     "name": "stdout",
     "output_type": "stream",
     "text": [
      "98\n"
     ]
    }
   ],
   "source": [
    "int_fahrenheit = int(fahrenheit)\n",
    "print(int_fahrenheit)"
   ]
  },
  {
   "cell_type": "code",
   "execution_count": null,
   "id": "a18cbbea-bbf7-4d32-85cf-adf99ff70779",
   "metadata": {},
   "outputs": [],
   "source": []
  }
 ],
 "metadata": {
  "kernelspec": {
   "display_name": "Python [conda env:base] *",
   "language": "python",
   "name": "conda-base-py"
  },
  "language_info": {
   "codemirror_mode": {
    "name": "ipython",
    "version": 3
   },
   "file_extension": ".py",
   "mimetype": "text/x-python",
   "name": "python",
   "nbconvert_exporter": "python",
   "pygments_lexer": "ipython3",
   "version": "3.12.7"
  }
 },
 "nbformat": 4,
 "nbformat_minor": 5
}
